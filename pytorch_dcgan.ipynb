{
  "nbformat": 4,
  "nbformat_minor": 0,
  "metadata": {
    "colab": {
      "provenance": []
    },
    "kernelspec": {
      "name": "python3",
      "display_name": "Python 3"
    },
    "language_info": {
      "name": "python"
    }
  },
  "cells": [
    {
      "cell_type": "code",
      "source": [
        "import torch\n",
        "from torch import nn\n",
        "from torch.utils.data import DataLoader\n",
        "from torchvision import datasets\n",
        "from torchvision.transforms import ToTensor, Compose, Normalize\n",
        "import matplotlib.pyplot as plt"
      ],
      "metadata": {
        "id": "BjrmNJNyp_zD"
      },
      "execution_count": 1,
      "outputs": []
    },
    {
      "cell_type": "code",
      "source": [
        "transform = Compose([\n",
        "    ToTensor(),\n",
        "    Normalize((0.5), (0.5)),\n",
        "])\n",
        "\n",
        "training_data = datasets.MNIST(\n",
        "    root=\"data\",\n",
        "    train=True,\n",
        "    download=True,\n",
        "    transform=transform,\n",
        ")"
      ],
      "metadata": {
        "id": "kebp5HFHzVu3"
      },
      "execution_count": 2,
      "outputs": []
    },
    {
      "cell_type": "code",
      "source": [
        "batch_size = 64\n",
        "z_noise = 100\n",
        "\n",
        "train_dataloader = DataLoader(training_data, batch_size=batch_size)\n",
        "\n",
        "for X, y in train_dataloader:\n",
        "    print(f\"Shape of X [N, C, H, W]: {X.shape}\")\n",
        "    print(f\"Shape of y: {y.shape} {y.dtype}\")\n",
        "    print(torch.min(X), torch.max(X))\n",
        "    break"
      ],
      "metadata": {
        "colab": {
          "base_uri": "https://localhost:8080/"
        },
        "id": "7obP4-MnzVyn",
        "outputId": "7c3a23ba-c768-4ef7-e834-8faf183e07d1"
      },
      "execution_count": 3,
      "outputs": [
        {
          "output_type": "stream",
          "name": "stdout",
          "text": [
            "Shape of X [N, C, H, W]: torch.Size([64, 1, 28, 28])\n",
            "Shape of y: torch.Size([64]) torch.int64\n",
            "tensor(-1.) tensor(1.)\n"
          ]
        }
      ]
    },
    {
      "cell_type": "code",
      "source": [
        "device = (\n",
        "    \"cuda\"\n",
        "    if torch.cuda.is_available()\n",
        "    else \"mps\"\n",
        "    if torch.backends.mps.is_available()\n",
        "    else \"cpu\"\n",
        ")\n",
        "print(f\"Using {device} device\")\n",
        "\n",
        "class Discriminator(nn.Module):\n",
        "    def __init__(self):\n",
        "        super().__init__()\n",
        "        self.conv1 = nn.Sequential(\n",
        "            nn.Conv2d(1, 16, 3, 1, 1, bias=False),\n",
        "            nn.LeakyReLU(0.2),\n",
        "\n",
        "            nn.Conv2d(16, 32, 3, 1, 1, bias=False),\n",
        "            nn.BatchNorm2d(32),\n",
        "            nn.LeakyReLU(0.2),\n",
        "            nn.MaxPool2d(2),\n",
        "\n",
        "            nn.Conv2d(32, 32, 3, 1, 1, bias=False),\n",
        "            nn.BatchNorm2d(32),\n",
        "            nn.LeakyReLU(0.2),\n",
        "            nn.MaxPool2d(2),\n",
        "\n",
        "            nn.Conv2d(32, 32, 3, 1, 1, bias=False),\n",
        "            nn.BatchNorm2d(32),\n",
        "            nn.LeakyReLU(0.2),\n",
        "            nn.MaxPool2d(2)\n",
        "        )\n",
        "        self.fc = nn.Sequential(\n",
        "            nn.Linear(32*3*3, 1),\n",
        "            nn.Sigmoid()\n",
        "        )\n",
        "\n",
        "    def forward(self, x):\n",
        "        x = self.conv1(x)\n",
        "        x = x.view(x.size(0), -1)\n",
        "        x = self.fc(x)\n",
        "        return x\n",
        "\n",
        "discriminator = Discriminator().to(device)\n",
        "print(discriminator)"
      ],
      "metadata": {
        "colab": {
          "base_uri": "https://localhost:8080/"
        },
        "id": "smMFM_8CzV2U",
        "outputId": "d3d883b8-2710-4916-af64-74354e3a83cf"
      },
      "execution_count": 4,
      "outputs": [
        {
          "output_type": "stream",
          "name": "stdout",
          "text": [
            "Using cuda device\n",
            "Discriminator(\n",
            "  (conv1): Sequential(\n",
            "    (0): Conv2d(1, 16, kernel_size=(3, 3), stride=(1, 1), padding=(1, 1), bias=False)\n",
            "    (1): LeakyReLU(negative_slope=0.2)\n",
            "    (2): Conv2d(16, 32, kernel_size=(3, 3), stride=(1, 1), padding=(1, 1), bias=False)\n",
            "    (3): BatchNorm2d(32, eps=1e-05, momentum=0.1, affine=True, track_running_stats=True)\n",
            "    (4): LeakyReLU(negative_slope=0.2)\n",
            "    (5): MaxPool2d(kernel_size=2, stride=2, padding=0, dilation=1, ceil_mode=False)\n",
            "    (6): Conv2d(32, 32, kernel_size=(3, 3), stride=(1, 1), padding=(1, 1), bias=False)\n",
            "    (7): BatchNorm2d(32, eps=1e-05, momentum=0.1, affine=True, track_running_stats=True)\n",
            "    (8): LeakyReLU(negative_slope=0.2)\n",
            "    (9): MaxPool2d(kernel_size=2, stride=2, padding=0, dilation=1, ceil_mode=False)\n",
            "    (10): Conv2d(32, 32, kernel_size=(3, 3), stride=(1, 1), padding=(1, 1), bias=False)\n",
            "    (11): BatchNorm2d(32, eps=1e-05, momentum=0.1, affine=True, track_running_stats=True)\n",
            "    (12): LeakyReLU(negative_slope=0.2)\n",
            "    (13): MaxPool2d(kernel_size=2, stride=2, padding=0, dilation=1, ceil_mode=False)\n",
            "  )\n",
            "  (fc): Sequential(\n",
            "    (0): Linear(in_features=288, out_features=1, bias=True)\n",
            "    (1): Sigmoid()\n",
            "  )\n",
            ")\n"
          ]
        }
      ]
    },
    {
      "cell_type": "code",
      "source": [
        "class Generator(nn.Module):\n",
        "    def __init__(self):\n",
        "        super().__init__()\n",
        "        self.conv = nn.Sequential(\n",
        "            nn.ConvTranspose2d(z_noise, 64, 7, 1, 0, bias=False),\n",
        "            nn.BatchNorm2d(64),\n",
        "            nn.ReLU(),\n",
        "\n",
        "            nn.ConvTranspose2d(64, 32, 4, 2, 1, bias=False),\n",
        "            nn.BatchNorm2d(32),\n",
        "            nn.ReLU(),\n",
        "\n",
        "            nn.ConvTranspose2d(32, 1, 4, 2, 1, bias=False),\n",
        "            nn.Tanh()\n",
        "        )\n",
        "\n",
        "    def forward(self, x):\n",
        "        x = self.conv(x)\n",
        "        return x\n",
        "\n",
        "generator = Generator().to(device)\n",
        "print(generator)"
      ],
      "metadata": {
        "colab": {
          "base_uri": "https://localhost:8080/"
        },
        "id": "jjA8wv4IzV5w",
        "outputId": "5476081c-591b-44f3-9425-656aa7085bc6"
      },
      "execution_count": 5,
      "outputs": [
        {
          "output_type": "stream",
          "name": "stdout",
          "text": [
            "Generator(\n",
            "  (conv): Sequential(\n",
            "    (0): ConvTranspose2d(100, 64, kernel_size=(7, 7), stride=(1, 1), bias=False)\n",
            "    (1): BatchNorm2d(64, eps=1e-05, momentum=0.1, affine=True, track_running_stats=True)\n",
            "    (2): ReLU()\n",
            "    (3): ConvTranspose2d(64, 32, kernel_size=(4, 4), stride=(2, 2), padding=(1, 1), bias=False)\n",
            "    (4): BatchNorm2d(32, eps=1e-05, momentum=0.1, affine=True, track_running_stats=True)\n",
            "    (5): ReLU()\n",
            "    (6): ConvTranspose2d(32, 1, kernel_size=(4, 4), stride=(2, 2), padding=(1, 1), bias=False)\n",
            "    (7): Tanh()\n",
            "  )\n",
            ")\n"
          ]
        }
      ]
    },
    {
      "cell_type": "code",
      "source": [
        "loss_fn = nn.BCELoss()\n",
        "d_optimizer = torch.optim.Adam(discriminator.parameters(), lr=2e-4, betas=(0.5, 0.999))\n",
        "g_optimizer = torch.optim.Adam(generator.parameters(), lr=2e-4, betas=(0.5, 0.999))"
      ],
      "metadata": {
        "id": "aYeMqEcIzV88"
      },
      "execution_count": 6,
      "outputs": []
    },
    {
      "cell_type": "code",
      "source": [
        "epoch = 50\n",
        "\n",
        "for i in range(epoch):\n",
        "  print(f\"Epoch {i+1}\\n-------------------------------\")\n",
        "\n",
        "  discriminator.train()\n",
        "  generator.train()\n",
        "  for batch, (img, _) in enumerate(train_dataloader):\n",
        "    img = img.to(device)\n",
        "\n",
        "    d_optimizer.zero_grad()\n",
        "\n",
        "    # noise = torch.randn(batch_size, z_noise).to(device)\n",
        "    noise = torch.randn(batch_size, z_noise, 1, 1).to(device)\n",
        "    fake_img = generator(noise)\n",
        "    # fake_img = fake_img.reshape(-1, 1, 28, 28)\n",
        "    d_real = discriminator(img)\n",
        "    d_real_loss = loss_fn(d_real, torch.ones_like(d_real))\n",
        "\n",
        "    d_fake = discriminator(fake_img)\n",
        "    d_fake_loss = loss_fn(d_fake, torch.zeros_like(d_fake))\n",
        "\n",
        "    d_loss = (d_real_loss + d_fake_loss) / 2\n",
        "\n",
        "    d_real_loss.backward()\n",
        "    d_fake_loss.backward()\n",
        "    d_optimizer.step()\n",
        "\n",
        "\n",
        "    g_optimizer.zero_grad()\n",
        "\n",
        "    # noise = torch.randn(batch_size, z_noise).to(device)\n",
        "    noise = torch.randn(batch_size, z_noise, 1, 1).to(device)\n",
        "    fake_img = generator(noise)\n",
        "    # fake_img = fake_img.reshape(-1, 1, 28, 28)\n",
        "    d_fake = discriminator(fake_img)\n",
        "    d_fake_loss = loss_fn(d_fake, torch.ones_like(d_fake))\n",
        "\n",
        "    d_fake_loss.backward()\n",
        "    g_optimizer.step()\n",
        "\n",
        "    # if batch % 100 == 0:\n",
        "    #   print(f\"D loss: {d_loss:>7f}\", f\"G loss: {d_fake_loss:>7f}\")\n",
        "  print(f\"D loss: {d_loss:>7f}\", f\"G loss: {d_fake_loss:>7f}\")\n",
        "print(\"Done!\")"
      ],
      "metadata": {
        "colab": {
          "base_uri": "https://localhost:8080/"
        },
        "id": "eNTjxxNY2qoF",
        "outputId": "c0ab37c8-49b1-464b-eb1f-83690085047b"
      },
      "execution_count": 7,
      "outputs": [
        {
          "output_type": "stream",
          "name": "stdout",
          "text": [
            "Epoch 1\n",
            "-------------------------------\n",
            "D loss: 0.086891 G loss: 2.979696\n",
            "Epoch 2\n",
            "-------------------------------\n",
            "D loss: 0.127913 G loss: 2.677627\n",
            "Epoch 3\n",
            "-------------------------------\n",
            "D loss: 0.110987 G loss: 3.522263\n",
            "Epoch 4\n",
            "-------------------------------\n",
            "D loss: 0.216259 G loss: 4.347270\n",
            "Epoch 5\n",
            "-------------------------------\n",
            "D loss: 0.108539 G loss: 5.054214\n",
            "Epoch 6\n",
            "-------------------------------\n",
            "D loss: 0.021323 G loss: 6.462098\n",
            "Epoch 7\n",
            "-------------------------------\n",
            "D loss: 0.032095 G loss: 6.635013\n",
            "Epoch 8\n",
            "-------------------------------\n",
            "D loss: 0.139019 G loss: 7.399455\n",
            "Epoch 9\n",
            "-------------------------------\n",
            "D loss: 0.018924 G loss: 6.459733\n",
            "Epoch 10\n",
            "-------------------------------\n",
            "D loss: 0.010015 G loss: 6.017720\n",
            "Epoch 11\n",
            "-------------------------------\n",
            "D loss: 0.030076 G loss: 4.993642\n",
            "Epoch 12\n",
            "-------------------------------\n",
            "D loss: 0.008553 G loss: 7.569249\n",
            "Epoch 13\n",
            "-------------------------------\n",
            "D loss: 0.041368 G loss: 5.936694\n",
            "Epoch 14\n",
            "-------------------------------\n",
            "D loss: 0.007626 G loss: 7.787672\n",
            "Epoch 15\n",
            "-------------------------------\n",
            "D loss: 0.056286 G loss: 5.046561\n",
            "Epoch 16\n",
            "-------------------------------\n",
            "D loss: 0.028387 G loss: 5.652532\n",
            "Epoch 17\n",
            "-------------------------------\n",
            "D loss: 0.006935 G loss: 4.989141\n",
            "Epoch 18\n",
            "-------------------------------\n",
            "D loss: 0.017038 G loss: 6.590737\n",
            "Epoch 19\n",
            "-------------------------------\n",
            "D loss: 0.007187 G loss: 5.481318\n",
            "Epoch 20\n",
            "-------------------------------\n",
            "D loss: 0.004574 G loss: 6.281628\n",
            "Epoch 21\n",
            "-------------------------------\n",
            "D loss: 0.008060 G loss: 5.646348\n",
            "Epoch 22\n",
            "-------------------------------\n",
            "D loss: 0.009746 G loss: 7.324494\n",
            "Epoch 23\n",
            "-------------------------------\n",
            "D loss: 0.005578 G loss: 8.260168\n",
            "Epoch 24\n",
            "-------------------------------\n",
            "D loss: 0.011372 G loss: 5.679179\n",
            "Epoch 25\n",
            "-------------------------------\n",
            "D loss: 0.008262 G loss: 8.056986\n",
            "Epoch 26\n",
            "-------------------------------\n",
            "D loss: 0.010812 G loss: 10.127578\n",
            "Epoch 27\n",
            "-------------------------------\n",
            "D loss: 0.013803 G loss: 9.128508\n",
            "Epoch 28\n",
            "-------------------------------\n",
            "D loss: 0.003086 G loss: 8.026167\n",
            "Epoch 29\n",
            "-------------------------------\n",
            "D loss: 0.004932 G loss: 5.653432\n",
            "Epoch 30\n",
            "-------------------------------\n",
            "D loss: 0.012738 G loss: 5.478241\n",
            "Epoch 31\n",
            "-------------------------------\n",
            "D loss: 0.085905 G loss: 8.401154\n",
            "Epoch 32\n",
            "-------------------------------\n",
            "D loss: 0.005056 G loss: 8.341763\n",
            "Epoch 33\n",
            "-------------------------------\n",
            "D loss: 0.006785 G loss: 5.794575\n",
            "Epoch 34\n",
            "-------------------------------\n",
            "D loss: 0.007900 G loss: 8.272708\n",
            "Epoch 35\n",
            "-------------------------------\n",
            "D loss: 0.003624 G loss: 8.095621\n",
            "Epoch 36\n",
            "-------------------------------\n",
            "D loss: 0.008792 G loss: 5.378137\n",
            "Epoch 37\n",
            "-------------------------------\n",
            "D loss: 0.010555 G loss: 7.237828\n",
            "Epoch 38\n",
            "-------------------------------\n",
            "D loss: 0.015393 G loss: 10.260175\n",
            "Epoch 39\n",
            "-------------------------------\n",
            "D loss: 0.019044 G loss: 6.957350\n",
            "Epoch 40\n",
            "-------------------------------\n",
            "D loss: 0.007937 G loss: 6.871399\n",
            "Epoch 41\n",
            "-------------------------------\n",
            "D loss: 0.009897 G loss: 11.900160\n",
            "Epoch 42\n",
            "-------------------------------\n",
            "D loss: 0.001928 G loss: 9.225414\n",
            "Epoch 43\n",
            "-------------------------------\n",
            "D loss: 0.001032 G loss: 7.982369\n",
            "Epoch 44\n",
            "-------------------------------\n",
            "D loss: 0.000813 G loss: 6.817172\n",
            "Epoch 45\n",
            "-------------------------------\n",
            "D loss: 0.049163 G loss: 6.208976\n",
            "Epoch 46\n",
            "-------------------------------\n",
            "D loss: 0.007267 G loss: 5.975449\n",
            "Epoch 47\n",
            "-------------------------------\n",
            "D loss: 0.016919 G loss: 5.663304\n",
            "Epoch 48\n",
            "-------------------------------\n",
            "D loss: 0.001086 G loss: 9.011548\n",
            "Epoch 49\n",
            "-------------------------------\n",
            "D loss: 0.028412 G loss: 8.072145\n",
            "Epoch 50\n",
            "-------------------------------\n",
            "D loss: 0.006322 G loss: 8.934208\n",
            "Done!\n"
          ]
        }
      ]
    },
    {
      "cell_type": "code",
      "source": [
        "fig = plt.figure(figsize=(20, 5))\n",
        "rows = 2\n",
        "columns = 8\n",
        "with torch.no_grad():\n",
        "  for i in range(16):\n",
        "    fig.add_subplot(rows, columns, i+1)\n",
        "    # noise = torch.randn(1, z_noise).to(device)\n",
        "    noise = torch.randn(1, z_noise, 1, 1).to(device)\n",
        "    fake_img = generator(noise).cpu().detach()\n",
        "    # fake_img = fake_img.reshape(-1,1,28,28)\n",
        "    plt.imshow(fake_img[0][0].detach().numpy(), cmap=\"gray\")"
      ],
      "metadata": {
        "colab": {
          "base_uri": "https://localhost:8080/",
          "height": 364
        },
        "id": "gwMnHvU6AUGO",
        "outputId": "a246f975-9306-4bbb-b664-3d70ee64eea3"
      },
      "execution_count": 8,
      "outputs": [
        {
          "output_type": "display_data",
          "data": {
            "text/plain": [
              "<Figure size 2000x500 with 16 Axes>"
            ],
            "image/png": "[encoded data removed]"
          },
          "metadata": {}
        }
      ]
    }
  ]
}